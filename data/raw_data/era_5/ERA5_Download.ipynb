{
 "cells": [
  {
   "cell_type": "code",
   "execution_count": 1,
   "id": "b3e9a1a6",
   "metadata": {},
   "outputs": [],
   "source": [
    "#Code to download 2m_Temperature Reanalysis Dataset. Note:- The data are downloaded individually year-wise."
   ]
  },
  {
   "cell_type": "code",
   "execution_count": 2,
   "id": "bff603cb",
   "metadata": {},
   "outputs": [],
   "source": [
    "import cdsapi"
   ]
  },
  {
   "cell_type": "code",
   "execution_count": 3,
   "id": "01290c28",
   "metadata": {},
   "outputs": [],
   "source": [
    "c = cdsapi.Client()"
   ]
  },
  {
   "cell_type": "code",
   "execution_count": 4,
   "id": "bd563701",
   "metadata": {},
   "outputs": [
    {
     "name": "stderr",
     "output_type": "stream",
     "text": [
      "2022-04-11 10:57:28,997 INFO Welcome to the CDS\n",
      "2022-04-11 10:57:28,997 INFO Sending request to https://cds.climate.copernicus.eu/api/v2/resources/reanalysis-era5-single-levels\n",
      "2022-04-11 10:57:29,134 INFO Request is queued\n",
      "2022-04-11 11:31:55,644 INFO Request is running\n",
      "2022-04-11 11:39:57,788 INFO Request is completed\n",
      "2022-04-11 11:39:57,803 INFO Downloading https://download-0008-clone.copernicus-climate.eu/cache-compute-0008/cache/data3/adaptor.mars.internal-1649691534.7640412-26320-8-09a897e9-0fc1-4394-933d-3edcd7a8cc4a.nc to 2021.nc (105.4M)\n",
      "2022-04-11 11:40:17,325 INFO Download rate 5.4M/s                                                                      \n"
     ]
    },
    {
     "data": {
      "text/plain": [
       "Result(content_length=110535436,content_type=application/x-netcdf,location=https://download-0008-clone.copernicus-climate.eu/cache-compute-0008/cache/data3/adaptor.mars.internal-1649691534.7640412-26320-8-09a897e9-0fc1-4394-933d-3edcd7a8cc4a.nc)"
      ]
     },
     "execution_count": 4,
     "metadata": {},
     "output_type": "execute_result"
    }
   ],
   "source": [
    "c.retrieve(\n",
    "    'reanalysis-era5-single-levels',\n",
    "    {\n",
    "        'product_type': 'reanalysis',\n",
    "        'format': 'netcdf',\n",
    "        'variable': '2m_temperature',\n",
    "        'year': '2021',\n",
    "        'month': [\n",
    "            '01', '02', '03',\n",
    "            '04', '05', '06',\n",
    "            '07', '08', '09',\n",
    "            '10', '11', '12',\n",
    "        ],\n",
    "        'day': [\n",
    "            '01', '02', '03',\n",
    "            '04', '05', '06',\n",
    "            '07', '08', '09',\n",
    "            '10', '11', '12',\n",
    "            '13', '14', '15',\n",
    "            '16', '17', '18',\n",
    "            '19', '20', '21',\n",
    "            '22', '23', '24',\n",
    "            '25', '26', '27',\n",
    "            '28', '29', '30',\n",
    "            '31',\n",
    "        ],\n",
    "        'time': [\n",
    "            '00:00', '01:00', '02:00',\n",
    "            '03:00', '04:00', '05:00',\n",
    "            '06:00', '07:00', '08:00',\n",
    "            '09:00', '10:00', '11:00',\n",
    "            '12:00', '13:00', '14:00',\n",
    "            '15:00', '16:00', '17:00',\n",
    "            '18:00', '19:00', '20:00',\n",
    "            '21:00', '22:00', '23:00',\n",
    "        ],\n",
    "        'area': [\n",
    "            50, -125, 24,\n",
    "            -66,\n",
    "        ],\n",
    "        'grid': [0.5, 0.5],\n",
    "    },\n",
    "    '2021.nc')"
   ]
  },
  {
   "cell_type": "code",
   "execution_count": 6,
   "id": "a590b552",
   "metadata": {},
   "outputs": [
    {
     "name": "stderr",
     "output_type": "stream",
     "text": [
      "2022-04-11 12:36:21,117 INFO Welcome to the CDS\n",
      "2022-04-11 12:36:21,117 INFO Sending request to https://cds.climate.copernicus.eu/api/v2/resources/reanalysis-era5-single-levels\n",
      "2022-04-11 12:36:21,247 INFO Request is queued\n",
      "2022-04-11 12:50:44,056 INFO Request is completed\n",
      "2022-04-11 12:50:44,056 INFO Downloading https://download-0001-clone.copernicus-climate.eu/cache-compute-0001/cache/data4/adaptor.mars.internal-1649695816.9203236-2162-11-b47f5121-15d0-4dab-89c3-6279bb7a3a58.nc to 2022.nc (34.1M)\n",
      "2022-04-11 12:50:53,822 INFO Download rate 3.5M/s                                                                      \n"
     ]
    },
    {
     "data": {
      "text/plain": [
       "Result(content_length=35730372,content_type=application/x-netcdf,location=https://download-0001-clone.copernicus-climate.eu/cache-compute-0001/cache/data4/adaptor.mars.internal-1649695816.9203236-2162-11-b47f5121-15d0-4dab-89c3-6279bb7a3a58.nc)"
      ]
     },
     "execution_count": 6,
     "metadata": {},
     "output_type": "execute_result"
    }
   ],
   "source": [
    "c.retrieve(\n",
    "    'reanalysis-era5-single-levels',\n",
    "    {\n",
    "        'product_type': 'reanalysis',\n",
    "        'format': 'netcdf',\n",
    "        'variable': '2m_temperature',\n",
    "        'year': '2022',\n",
    "        'month': [\n",
    "            '01', '02',\n",
    "        ],\n",
    "        'day': [\n",
    "            '01', '02', '03',\n",
    "            '04', '05', '06',\n",
    "            '07', '08', '09',\n",
    "            '10', '11', '12',\n",
    "            '13', '14', '15',\n",
    "            '16', '17', '18',\n",
    "            '19', '20', '21',\n",
    "            '22', '23', '24',\n",
    "            '25', '26', '27',\n",
    "            '28', '29', '30',\n",
    "            '31',\n",
    "        ],\n",
    "        'time': [\n",
    "            '00:00', '01:00', '02:00',\n",
    "            '03:00', '04:00', '05:00',\n",
    "            '06:00', '07:00', '08:00',\n",
    "            '09:00', '10:00', '11:00',\n",
    "            '12:00', '13:00', '14:00',\n",
    "            '15:00', '16:00', '17:00',\n",
    "            '18:00', '19:00', '20:00',\n",
    "            '21:00', '22:00', '23:00',\n",
    "        ],\n",
    "        'area': [\n",
    "            50, -125, 24,\n",
    "            -66,\n",
    "        ],\n",
    "        'grid': [0.5, 0.5],\n",
    "    },\n",
    "    '2022.nc')"
   ]
  },
  {
   "cell_type": "code",
   "execution_count": null,
   "id": "76de399f",
   "metadata": {},
   "outputs": [],
   "source": []
  }
 ],
 "metadata": {
  "kernelspec": {
   "display_name": "Python 3",
   "language": "python",
   "name": "python3"
  },
  "language_info": {
   "codemirror_mode": {
    "name": "ipython",
    "version": 3
   },
   "file_extension": ".py",
   "mimetype": "text/x-python",
   "name": "python",
   "nbconvert_exporter": "python",
   "pygments_lexer": "ipython3",
   "version": "3.8.10"
  }
 },
 "nbformat": 4,
 "nbformat_minor": 5
}
